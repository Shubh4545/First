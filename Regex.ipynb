{
  "nbformat": 4,
  "nbformat_minor": 0,
  "metadata": {
    "colab": {
      "name": "Regex.ipynb",
      "provenance": [],
      "collapsed_sections": [],
      "authorship_tag": "ABX9TyPWb8h8TvY96JW7BdDr22Hn",
      "include_colab_link": true
    },
    "kernelspec": {
      "name": "python3",
      "display_name": "Python 3"
    },
    "language_info": {
      "name": "python"
    }
  },
  "cells": [
    {
      "cell_type": "markdown",
      "metadata": {
        "id": "view-in-github",
        "colab_type": "text"
      },
      "source": [
        "<a href=\"https://colab.research.google.com/github/Shubh4545/First/blob/master/Regex.ipynb\" target=\"_parent\"><img src=\"https://colab.research.google.com/assets/colab-badge.svg\" alt=\"Open In Colab\"/></a>"
      ]
    },
    {
      "cell_type": "markdown",
      "source": [
        "# Findall is used for to find all words through string\n"
      ],
      "metadata": {
        "id": "Zi8v29GejH7I"
      }
    },
    {
      "cell_type": "code",
      "execution_count": 14,
      "metadata": {
        "colab": {
          "base_uri": "https://localhost:8080/"
        },
        "id": "JSnbsA4ehAGz",
        "outputId": "0e2728d3-1b31-4e0d-c009-c1cc16deed23"
      },
      "outputs": [
        {
          "output_type": "stream",
          "name": "stdout",
          "text": [
            "<class 're.Pattern'>\n",
            "['190', '200', '200']\n"
          ]
        }
      ],
      "source": [
        "import re\n",
        "\n",
        "# Target String one\n",
        "str1 = \"shubham  marks are 190 200 200 11\"\n",
        " \n",
        "# pattern to find three consecutive digits\n",
        "string_pattern = \"\\d{3}\"\n",
        "# compile string pattern to re.Pattern object\n",
        "regex_pattern = re.compile(string_pattern)\n",
        " \n",
        "# print the type of compiled pattern\n",
        "print(type(regex_pattern))\n",
        " \n",
        "# find all the matches in string one\n",
        "result = regex_pattern.findall(str1)\n",
        "print(result)\n"
      ]
    },
    {
      "cell_type": "markdown",
      "source": [
        "# search is only for searching first string"
      ],
      "metadata": {
        "id": "Fav6Oii4t5WJ"
      }
    },
    {
      "cell_type": "code",
      "source": [
        "#re.search(pattern,str)\n",
        "import re\n",
        "\n",
        "# Target String one\n",
        "target_string = \"nethaji  marks are 190 200 200 11\" \n",
        "result=re.match(\"\\w{4}\",target_string)\n",
        "print(\"match result : \",result)\n",
        "\n",
        "#print the matching word\n",
        "print(\"matching word : \",result.group())"
      ],
      "metadata": {
        "colab": {
          "base_uri": "https://localhost:8080/"
        },
        "id": "-3fx2Z1VtAp8",
        "outputId": "e81e7f1d-31a6-4f4e-c811-5140a54fbb87"
      },
      "execution_count": 20,
      "outputs": [
        {
          "output_type": "stream",
          "name": "stdout",
          "text": [
            "match result :  <re.Match object; span=(0, 4), match='neth'>\n",
            "matching word :  neth\n"
          ]
        }
      ]
    },
    {
      "cell_type": "markdown",
      "source": [
        "# Mobile number check"
      ],
      "metadata": {
        "id": "oLodooERuyVN"
      }
    },
    {
      "cell_type": "code",
      "source": [
        "import re \n",
        "pattern = \"^(((0|((\\+)?91(\\-)?))|((\\((\\+)?91\\)(\\-)?)))?[7-9]\\d{9})?$\"\n",
        "#This is pattern for following number types\n",
        "\"\"\" 9876543210 | 09876543210 | 919876543210 | +919876543210 | \n",
        "    91-9876543210 | +91-9876543210 | (91)9876543210 |\n",
        "    (+91)9876543210 | (91)-9876543210 | (+91)-9876543210\n",
        "\"\"\"\n",
        "string = input()\n",
        "print(bool(re.match(pattern,string)))"
      ],
      "metadata": {
        "colab": {
          "base_uri": "https://localhost:8080/"
        },
        "id": "dYH6BCMOu4zN",
        "outputId": "1b4f29ac-94b3-4f7d-82fb-568d082792a6"
      },
      "execution_count": 39,
      "outputs": [
        {
          "output_type": "stream",
          "name": "stdout",
          "text": [
            "8888\n",
            "False\n"
          ]
        }
      ]
    },
    {
      "cell_type": "code",
      "source": [
        "#password match Minimum eight and maximum 10 characters, at least one uppercase letter, \n",
        "#one lowercase letter, one number and one special character:\n",
        "import re \n",
        "pattern = \"^(?=.*[a-z])(?=.*[A-Z])(?=.*\\d)(?=.*[@$!%*?&])[A-Za-z\\d@$!%*?&]{8,16}$\"\n",
        "print(bool(re.match(pattern,\"Iamsrk@45\")))"
      ],
      "metadata": {
        "colab": {
          "base_uri": "https://localhost:8080/"
        },
        "id": "O0Hksyyt3GN3",
        "outputId": "ab465f33-bf0c-457c-fa43-43b1dbdb5cad"
      },
      "execution_count": 56,
      "outputs": [
        {
          "output_type": "stream",
          "name": "stdout",
          "text": [
            "True\n"
          ]
        }
      ]
    },
    {
      "cell_type": "markdown",
      "source": [
        "https://colab.research.google.com/drive/1THB-ORi6Bhzex4Yi2hqRm3JQsB21oy0S?usp=sharing"
      ],
      "metadata": {
        "id": "dXp4GSGIBAOO"
      }
    },
    {
      "cell_type": "code",
      "source": [],
      "metadata": {
        "id": "ph5La9DOA_wy"
      },
      "execution_count": null,
      "outputs": []
    }
  ]
}