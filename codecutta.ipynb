{
  "nbformat": 4,
  "nbformat_minor": 0,
  "metadata": {
    "colab": {
      "name": "codecutta.ipynb",
      "provenance": [],
      "authorship_tag": "ABX9TyOnXTXSNMSwAFEmiJNx7YTH",
      "include_colab_link": true
    },
    "kernelspec": {
      "name": "python3",
      "display_name": "Python 3"
    },
    "language_info": {
      "name": "python"
    }
  },
  "cells": [
    {
      "cell_type": "markdown",
      "metadata": {
        "id": "view-in-github",
        "colab_type": "text"
      },
      "source": [
        "<a href=\"https://colab.research.google.com/github/Shubh4545/First/blob/master/codecutta.ipynb\" target=\"_parent\"><img src=\"https://colab.research.google.com/assets/colab-badge.svg\" alt=\"Open In Colab\"/></a>"
      ]
    },
    {
      "cell_type": "code",
      "execution_count": null,
      "metadata": {
        "colab": {
          "base_uri": "https://localhost:8080/"
        },
        "id": "LnKLNSnNJwGE",
        "outputId": "a2b41bef-e3f6-4007-821c-7144ebfc5aeb"
      },
      "outputs": [
        {
          "name": "stdout",
          "output_type": "stream",
          "text": [
            "1\n"
          ]
        }
      ],
      "source": [
        "n = int(input())"
      ]
    },
    {
      "cell_type": "code",
      "source": [
        "numbers = list(map(int,(input()).split()))\n",
        "a= numbers[0]\n",
        "b= numbers[1]\n",
        "c= numbers[2]\n",
        "ans= a*b%c\n",
        "print(ans)"
      ],
      "metadata": {
        "colab": {
          "base_uri": "https://localhost:8080/"
        },
        "id": "Tvzx1lp9KCS4",
        "outputId": "c3db8a34-0750-44d7-f735-492fc7442192"
      },
      "execution_count": null,
      "outputs": [
        {
          "output_type": "stream",
          "name": "stdout",
          "text": [
            "5 3 2\n",
            "1\n"
          ]
        }
      ]
    },
    {
      "cell_type": "code",
      "source": [
        "def are_coprime(a,b):\n",
        "    \n",
        "    hcf = 1\n",
        "\n",
        "    for i in range(1, a+1):\n",
        "        if a%i==0 and b%i==0:\n",
        "            hcf = i\n",
        "\n",
        "    return hcf == 1\n",
        "\n",
        "# Reading two numbers\n",
        "first,second = int(input().split())\n",
        "\n",
        "if are_coprime(first, second):\n",
        "    print('%d and %d are CO-PRIME' %(first, second))\n",
        "else:\n",
        "    print('%d and %d are NOT CO-PRIME' %(first, second))"
      ],
      "metadata": {
        "id": "gn6ZSmX9fUzQ"
      },
      "execution_count": null,
      "outputs": []
    }
  ]
}